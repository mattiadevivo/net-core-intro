{
    "metadata": {
        "kernelspec": {
            "name": "SQL",
            "display_name": "SQL",
            "language": "sql"
        },
        "language_info": {
            "name": "sql",
            "version": ""
        }
    },
    "nbformat_minor": 2,
    "nbformat": 4,
    "cells": [
        {
            "cell_type": "markdown",
            "source": [
                "Get all the rows from the db"
            ],
            "metadata": {
                "azdata_cell_guid": "63e2c02a-d0b4-453b-b4a1-4e166f754c7d"
            },
            "attachments": {}
        },
        {
            "cell_type": "code",
            "source": [
                "SELECT Id, Name, IsComplete FROM dbo.TodoItems;"
            ],
            "metadata": {
                "azdata_cell_guid": "aa2c504b-b327-4586-90cf-7d1c7a882b74",
                "language": "sql"
            },
            "outputs": [],
            "execution_count": null
        }
    ]
}